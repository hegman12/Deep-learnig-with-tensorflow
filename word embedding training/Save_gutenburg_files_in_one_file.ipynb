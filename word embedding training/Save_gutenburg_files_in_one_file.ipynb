{
 "cells": [
  {
   "cell_type": "markdown",
   "metadata": {},
   "source": [
    "# Note:\n",
    "\n",
    "If you are using this code, make sure you first unzip the gutenburg file at \"C:\\MLDatabases\\JNotebooks\\word embedding training\".\n",
    "Then make sure below path exists. Then run. I have deleted the unzipped file because they consume huge space."
   ]
  },
  {
   "cell_type": "code",
   "execution_count": 1,
   "metadata": {
    "collapsed": true
   },
   "outputs": [],
   "source": [
    "import numpy as np\n",
    "import os"
   ]
  },
  {
   "cell_type": "code",
   "execution_count": 2,
   "metadata": {
    "collapsed": true
   },
   "outputs": [],
   "source": [
    "def load(path):\n",
    "    #with open('C:\\\\MLDatabases\\\\JNotebooks\\\\word embedding training\\\\Gutenberg\\\\Gutenberg\\\\txt')\n",
    "    all_content=os.listdir(path)\n",
    "    files=[]\n",
    "    \n",
    "    for f in all_content:\n",
    "        if f.endswith('.txt'):\n",
    "            files.append(os.path.join(path,f))\n",
    "    return files"
   ]
  },
  {
   "cell_type": "code",
   "execution_count": 3,
   "metadata": {
    "collapsed": true
   },
   "outputs": [],
   "source": [
    "def load_file(f):\n",
    "    content=''\n",
    "    \n",
    "    try:\n",
    "        with open(f,'r',encoding='utf-8') as fh:\n",
    "            content=fh.read()\n",
    "    except UnicodeDecodeError:\n",
    "        pass\n",
    "    return list(content.split())   \n",
    "    \n",
    "    "
   ]
  },
  {
   "cell_type": "code",
   "execution_count": 4,
   "metadata": {
    "collapsed": true
   },
   "outputs": [],
   "source": [
    "def get_getuenburg_corp():\n",
    "    files=load('C:\\\\MLDatabases\\\\JNotebooks\\\\word embedding training\\\\Gutenberg\\\\Gutenberg\\\\txt')\n",
    "    content=[]\n",
    "    for file in files:\n",
    "        content += load_file(file)\n",
    "    with open('single_gutenburg_file.txt', 'w',encoding='utf-8') as fp:\n",
    "        fp.writelines(\"%s \" % item for item in content)\n",
    "        "
   ]
  },
  {
   "cell_type": "code",
   "execution_count": 5,
   "metadata": {},
   "outputs": [],
   "source": [
    "get_getuenburg_corp()"
   ]
  }
 ],
 "metadata": {
  "kernelspec": {
   "display_name": "Python 3",
   "language": "python",
   "name": "python3"
  },
  "language_info": {
   "codemirror_mode": {
    "name": "ipython",
    "version": 3
   },
   "file_extension": ".py",
   "mimetype": "text/x-python",
   "name": "python",
   "nbconvert_exporter": "python",
   "pygments_lexer": "ipython3",
   "version": "3.6.2"
  }
 },
 "nbformat": 4,
 "nbformat_minor": 2
}
