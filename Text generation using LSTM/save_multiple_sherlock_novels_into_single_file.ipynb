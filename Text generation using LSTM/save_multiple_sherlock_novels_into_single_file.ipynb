{
 "cells": [
  {
   "cell_type": "code",
   "execution_count": 6,
   "metadata": {
    "collapsed": true
   },
   "outputs": [],
   "source": [
    "import numpy as np\n",
    "import os"
   ]
  },
  {
   "cell_type": "code",
   "execution_count": 7,
   "metadata": {
    "collapsed": true
   },
   "outputs": [],
   "source": [
    "def load(path):\n",
    "    #with open('C:\\\\MLDatabases\\\\JNotebooks\\\\word embedding training\\\\Gutenberg\\\\Gutenberg\\\\txt')\n",
    "    all_content=os.listdir(path)\n",
    "    files=[]\n",
    "    \n",
    "    for f in all_content:\n",
    "        if f.endswith('.txt'):\n",
    "            files.append(os.path.join(path,f))\n",
    "    return files"
   ]
  },
  {
   "cell_type": "code",
   "execution_count": 8,
   "metadata": {
    "collapsed": true
   },
   "outputs": [],
   "source": [
    "def load_file(f):\n",
    "    content=''    \n",
    "    try:\n",
    "        with open(f,'r',encoding='utf-8') as fh:\n",
    "            content=fh.read()\n",
    "    except UnicodeDecodeError:\n",
    "        pass\n",
    "    return list(content.split())   \n",
    "    \n",
    "    "
   ]
  },
  {
   "cell_type": "code",
   "execution_count": 9,
   "metadata": {
    "collapsed": true
   },
   "outputs": [],
   "source": [
    "def get_sherlock_corp():\n",
    "    files=load('C:\\\\MLDatabases\\\\JNotebooks\\\\Text generation using LSTM\\\\sherock')\n",
    "    content=[]\n",
    "    for file in files:\n",
    "        content += load_file(file)\n",
    "    with open('single_sherlock_file.txt', 'w',encoding='utf-8') as fp:\n",
    "        fp.writelines(\"%s \" % item for item in content)\n",
    "        "
   ]
  },
  {
   "cell_type": "code",
   "execution_count": 10,
   "metadata": {
    "collapsed": true
   },
   "outputs": [],
   "source": [
    "get_sherlock_corp()"
   ]
  }
 ],
 "metadata": {
  "kernelspec": {
   "display_name": "Python 3",
   "language": "python",
   "name": "python3"
  },
  "language_info": {
   "codemirror_mode": {
    "name": "ipython",
    "version": 3
   },
   "file_extension": ".py",
   "mimetype": "text/x-python",
   "name": "python",
   "nbconvert_exporter": "python",
   "pygments_lexer": "ipython3",
   "version": "3.6.2"
  }
 },
 "nbformat": 4,
 "nbformat_minor": 2
}
