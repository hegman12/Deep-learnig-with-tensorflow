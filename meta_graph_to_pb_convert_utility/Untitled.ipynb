{
 "cells": [
  {
   "cell_type": "code",
   "execution_count": 1,
   "metadata": {
    "collapsed": true
   },
   "outputs": [],
   "source": [
    "import numpy as np\n",
    "import tensorflow as tf"
   ]
  },
  {
   "cell_type": "code",
   "execution_count": 3,
   "metadata": {},
   "outputs": [
    {
     "name": "stdout",
     "output_type": "stream",
     "text": [
      "INFO:tensorflow:Restoring parameters from C:\\MLDatabases\\google-images-download-master\\downloads\\model\n",
      "INFO:tensorflow:Froze 16 variables.\n",
      "Converted 16 variables to const ops.\n"
     ]
    }
   ],
   "source": [
    "meta_path = 'C:\\\\MLDatabases\\\\google-images-download-master\\\\downloads\\\\model.meta' # Your .meta file\n",
    "output_node_names = ['softmaxed_logits']    # Output nodes\n",
    "\n",
    "with tf.Session() as sess:\n",
    "\n",
    "    # Restore the graph\n",
    "    saver = tf.train.import_meta_graph(meta_path,clear_devices=True)\n",
    "\n",
    "    # Load weights\n",
    "    saver.restore(sess,'C:\\\\MLDatabases\\\\google-images-download-master\\\\downloads\\\\model')\n",
    "\n",
    "    # Freeze the graph\n",
    "    frozen_graph_def = tf.graph_util.convert_variables_to_constants(\n",
    "        sess,\n",
    "        sess.graph_def,\n",
    "        output_node_names)\n",
    "\n",
    "    # Save the frozen graph\n",
    "    with open('C:\\\\MLDatabases\\\\google-images-download-master\\\\downloads\\\\model_as_string.pb', 'wb') as f:\n",
    "      f.write(frozen_graph_def.SerializeToString())"
   ]
  }
 ],
 "metadata": {
  "kernelspec": {
   "display_name": "Python 3",
   "language": "python",
   "name": "python3"
  },
  "language_info": {
   "codemirror_mode": {
    "name": "ipython",
    "version": 3
   },
   "file_extension": ".py",
   "mimetype": "text/x-python",
   "name": "python",
   "nbconvert_exporter": "python",
   "pygments_lexer": "ipython3",
   "version": "3.6.2"
  }
 },
 "nbformat": 4,
 "nbformat_minor": 2
}
