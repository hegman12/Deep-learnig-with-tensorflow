{
 "cells": [
  {
   "cell_type": "code",
   "execution_count": 8,
   "metadata": {},
   "outputs": [],
   "source": [
    "import numpy as np\n",
    "import tensorflow as tf\n",
    "from lucid.optvis import objectives\n",
    "from lucid.optvis.param import images\n",
    "from lucid.optvis import render\n",
    "import lucid.modelzoo.vision_models as models\n",
    "import lucid.misc.io.loading as loading\n",
    "import lucid.misc.io.saving as saving\n",
    "import lucid.misc.io.showing as showing\n",
    "import lucid.optvis.param  as param"
   ]
  },
  {
   "cell_type": "code",
   "execution_count": 2,
   "metadata": {},
   "outputs": [],
   "source": [
    "v3=models.inceptionV3()\n",
    "v3.load_graphdef()"
   ]
  },
  {
   "cell_type": "code",
   "execution_count": 3,
   "metadata": {
    "collapsed": true
   },
   "outputs": [],
   "source": [
    "def get_filer_numbers(layers):\n",
    "    \n",
    "    im=tf.placeholder(tf.float32,shape=(1,229,229,3),name='im')\n",
    "    T=render.import_model(v3,im,im)\n",
    "    \n",
    "    filter_list=[]\n",
    "    \n",
    "    for l in layers:\n",
    "        acct=T(l)\n",
    "        filter_list.append(acct.shape[-1].value)\n",
    "    \n",
    "    return filter_list       "
   ]
  },
  {
   "cell_type": "code",
   "execution_count": 4,
   "metadata": {},
   "outputs": [
    {
     "name": "stdout",
     "output_type": "stream",
     "text": [
      "[768, 768, 1280, 768, 768, 2048, 768, 768, 2048]\n"
     ]
    }
   ],
   "source": [
    "tf.reset_default_graph()\n",
    "layers=['InceptionV3/InceptionV3/Mixed_6d/concat_v2',\n",
    " 'InceptionV3/InceptionV3/Mixed_6e/concat_v2',\n",
    " 'InceptionV3/InceptionV3/Mixed_7a/concat_v2',\n",
    " 'InceptionV3/InceptionV3/Mixed_7b/Branch_1/concat_v2',\n",
    " 'InceptionV3/InceptionV3/Mixed_7b/Branch_2/concat_v2',\n",
    " 'InceptionV3/InceptionV3/Mixed_7b/concat_v2',\n",
    " 'InceptionV3/InceptionV3/Mixed_7c/Branch_1/concat_v2',\n",
    " 'InceptionV3/InceptionV3/Mixed_7c/Branch_2/concat_v2',\n",
    " 'InceptionV3/InceptionV3/Mixed_7c/concat_v2']\n",
    "\n",
    "fileter_list=get_filer_numbers(layers)\n",
    "\n",
    "print(fileter_list)\n"
   ]
  },
  {
   "cell_type": "code",
   "execution_count": null,
   "metadata": {},
   "outputs": [],
   "source": [
    "tf.reset_default_graph()\n",
    "channel=lambda layer,n: objectives.channel(layer=layer,n_channel=n)\n",
    "\n",
    "for i,l in enumerate(layers):\n",
    "    op_images=np.zeros((fileter_list[i],100,100,3))\n",
    "    \n",
    "    for filter in range(fileter_list[i]):\n",
    "        with tf.Graph().as_default() as g,tf.Session() as sess:\n",
    "            \n",
    "            param_f=lambda : param.image(w=100)\n",
    "            obj=channel(l,filter)\n",
    "            T=render.make_vis_T(model=v3,objective_f=obj,param_f=param_f)\n",
    "            with tf.device('/GPU:0'):\n",
    "                vis_op=T('vis_op')\n",
    "                tf.global_variables_initializer().run()\n",
    "                for j in range(512):\n",
    "                        vis_op.run()\n",
    "\n",
    "                t_image=T('input')\n",
    "                loss=T('loss')\n",
    "                print('{layer}:{filter} - {loss}'.format(layer=l,filter=filter,loss=loss.eval()))\n",
    "\n",
    "                #showing.show(t_image.eval()[0])\n",
    "                op_images[filter]=t_image.eval()[0]\n",
    "    with open(\"D:\\\\InceptionV3\\\\spritemap\\\\\"+l.replace('/','_')+'.npy','wb') as f:\n",
    "        saving.save(op_images,f)\n",
    "    del op_images\n",
    "   "
   ]
  },
  {
   "cell_type": "code",
   "execution_count": null,
   "metadata": {},
   "outputs": [],
   "source": []
  }
 ],
 "metadata": {
  "kernelspec": {
   "display_name": "Python 3",
   "language": "python",
   "name": "python3"
  },
  "language_info": {
   "codemirror_mode": {
    "name": "ipython",
    "version": 3
   },
   "file_extension": ".py",
   "mimetype": "text/x-python",
   "name": "python",
   "nbconvert_exporter": "python",
   "pygments_lexer": "ipython3",
   "version": "3.6.1"
  }
 },
 "nbformat": 4,
 "nbformat_minor": 2
}
