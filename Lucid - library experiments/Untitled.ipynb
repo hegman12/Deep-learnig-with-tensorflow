{
 "cells": [
  {
   "cell_type": "code",
   "execution_count": 1,
   "metadata": {},
   "outputs": [
    {
     "name": "stderr",
     "output_type": "stream",
     "text": [
      "C:\\anaconda3\\lib\\site-packages\\h5py\\__init__.py:34: FutureWarning: Conversion of the second argument of issubdtype from `float` to `np.floating` is deprecated. In future, it will be treated as `np.float64 == np.dtype(float).type`.\n",
      "  from ._conv import register_converters as _register_converters\n"
     ]
    }
   ],
   "source": [
    "import numpy as np\n",
    "import tensorflow as tf"
   ]
  },
  {
   "cell_type": "code",
   "execution_count": 2,
   "metadata": {
    "collapsed": true
   },
   "outputs": [],
   "source": [
    "gd=tf.GraphDef()\n",
    "with open('C:\\\\MLDatabases\\\\JNotebooks\\\\dummy\\\\inception_v3_2016_08_28_frozen.pb','rb') as f:\n",
    "    gd.ParseFromString(f.read())\n",
    "    tf.import_graph_def(graph_def=gd)\n"
   ]
  },
  {
   "cell_type": "code",
   "execution_count": 3,
   "metadata": {},
   "outputs": [],
   "source": [
    "import lucid.modelzoo.util as util"
   ]
  },
  {
   "cell_type": "code",
   "execution_count": 2,
   "metadata": {
    "collapsed": true
   },
   "outputs": [],
   "source": [
    "gd=util.load_graphdef('gs://modelzoo/InceptionV1.pb')"
   ]
  },
  {
   "cell_type": "code",
   "execution_count": 4,
   "metadata": {
    "collapsed": true
   },
   "outputs": [],
   "source": [
    "tf.import_graph_def(gd)"
   ]
  },
  {
   "cell_type": "code",
   "execution_count": 3,
   "metadata": {
    "collapsed": true
   },
   "outputs": [],
   "source": [
    "graph=tf.get_default_graph()"
   ]
  },
  {
   "cell_type": "code",
   "execution_count": 4,
   "metadata": {},
   "outputs": [],
   "source": [
    "ops=graph.get_operations()"
   ]
  },
  {
   "cell_type": "code",
   "execution_count": 9,
   "metadata": {},
   "outputs": [
    {
     "data": {
      "text/plain": [
       "['import/InceptionV3/InceptionV3/Conv2d_1a_3x3/convolution',\n",
       " 'import/InceptionV3/InceptionV3/Conv2d_1a_3x3/Relu',\n",
       " 'import/InceptionV3/InceptionV3/Conv2d_2a_3x3/convolution',\n",
       " 'import/InceptionV3/InceptionV3/Conv2d_2a_3x3/Relu',\n",
       " 'import/InceptionV3/InceptionV3/Conv2d_2b_3x3/convolution',\n",
       " 'import/InceptionV3/InceptionV3/Conv2d_2b_3x3/Relu',\n",
       " 'import/InceptionV3/InceptionV3/Conv2d_3b_1x1/convolution',\n",
       " 'import/InceptionV3/InceptionV3/Conv2d_3b_1x1/Relu',\n",
       " 'import/InceptionV3/InceptionV3/Conv2d_4a_3x3/convolution',\n",
       " 'import/InceptionV3/InceptionV3/Conv2d_4a_3x3/Relu',\n",
       " 'import/InceptionV3/InceptionV3/Mixed_5b/Branch_0/Conv2d_0a_1x1/convolution',\n",
       " 'import/InceptionV3/InceptionV3/Mixed_5b/Branch_0/Conv2d_0a_1x1/Relu',\n",
       " 'import/InceptionV3/InceptionV3/Mixed_5b/Branch_1/Conv2d_0a_1x1/convolution',\n",
       " 'import/InceptionV3/InceptionV3/Mixed_5b/Branch_1/Conv2d_0a_1x1/Relu',\n",
       " 'import/InceptionV3/InceptionV3/Mixed_5b/Branch_1/Conv2d_0b_5x5/convolution',\n",
       " 'import/InceptionV3/InceptionV3/Mixed_5b/Branch_1/Conv2d_0b_5x5/Relu',\n",
       " 'import/InceptionV3/InceptionV3/Mixed_5b/Branch_2/Conv2d_0a_1x1/convolution',\n",
       " 'import/InceptionV3/InceptionV3/Mixed_5b/Branch_2/Conv2d_0a_1x1/Relu',\n",
       " 'import/InceptionV3/InceptionV3/Mixed_5b/Branch_2/Conv2d_0b_3x3/convolution',\n",
       " 'import/InceptionV3/InceptionV3/Mixed_5b/Branch_2/Conv2d_0b_3x3/Relu',\n",
       " 'import/InceptionV3/InceptionV3/Mixed_5b/Branch_2/Conv2d_0c_3x3/convolution',\n",
       " 'import/InceptionV3/InceptionV3/Mixed_5b/Branch_2/Conv2d_0c_3x3/Relu',\n",
       " 'import/InceptionV3/InceptionV3/Mixed_5b/Branch_3/Conv2d_0b_1x1/convolution',\n",
       " 'import/InceptionV3/InceptionV3/Mixed_5b/Branch_3/Conv2d_0b_1x1/Relu',\n",
       " 'import/InceptionV3/InceptionV3/Mixed_5c/Branch_0/Conv2d_0a_1x1/convolution',\n",
       " 'import/InceptionV3/InceptionV3/Mixed_5c/Branch_0/Conv2d_0a_1x1/Relu',\n",
       " 'import/InceptionV3/InceptionV3/Mixed_5c/Branch_1/Conv2d_0b_1x1/convolution',\n",
       " 'import/InceptionV3/InceptionV3/Mixed_5c/Branch_1/Conv2d_0b_1x1/Relu',\n",
       " 'import/InceptionV3/InceptionV3/Mixed_5c/Branch_1/Conv_1_0c_5x5/convolution',\n",
       " 'import/InceptionV3/InceptionV3/Mixed_5c/Branch_1/Conv_1_0c_5x5/Relu',\n",
       " 'import/InceptionV3/InceptionV3/Mixed_5c/Branch_2/Conv2d_0a_1x1/convolution',\n",
       " 'import/InceptionV3/InceptionV3/Mixed_5c/Branch_2/Conv2d_0a_1x1/Relu',\n",
       " 'import/InceptionV3/InceptionV3/Mixed_5c/Branch_2/Conv2d_0b_3x3/convolution',\n",
       " 'import/InceptionV3/InceptionV3/Mixed_5c/Branch_2/Conv2d_0b_3x3/Relu',\n",
       " 'import/InceptionV3/InceptionV3/Mixed_5c/Branch_2/Conv2d_0c_3x3/convolution',\n",
       " 'import/InceptionV3/InceptionV3/Mixed_5c/Branch_2/Conv2d_0c_3x3/Relu',\n",
       " 'import/InceptionV3/InceptionV3/Mixed_5c/Branch_3/Conv2d_0b_1x1/convolution',\n",
       " 'import/InceptionV3/InceptionV3/Mixed_5c/Branch_3/Conv2d_0b_1x1/Relu',\n",
       " 'import/InceptionV3/InceptionV3/Mixed_5d/Branch_0/Conv2d_0a_1x1/convolution',\n",
       " 'import/InceptionV3/InceptionV3/Mixed_5d/Branch_0/Conv2d_0a_1x1/Relu',\n",
       " 'import/InceptionV3/InceptionV3/Mixed_5d/Branch_1/Conv2d_0a_1x1/convolution',\n",
       " 'import/InceptionV3/InceptionV3/Mixed_5d/Branch_1/Conv2d_0a_1x1/Relu',\n",
       " 'import/InceptionV3/InceptionV3/Mixed_5d/Branch_1/Conv2d_0b_5x5/convolution',\n",
       " 'import/InceptionV3/InceptionV3/Mixed_5d/Branch_1/Conv2d_0b_5x5/Relu',\n",
       " 'import/InceptionV3/InceptionV3/Mixed_5d/Branch_2/Conv2d_0a_1x1/convolution',\n",
       " 'import/InceptionV3/InceptionV3/Mixed_5d/Branch_2/Conv2d_0a_1x1/Relu',\n",
       " 'import/InceptionV3/InceptionV3/Mixed_5d/Branch_2/Conv2d_0b_3x3/convolution',\n",
       " 'import/InceptionV3/InceptionV3/Mixed_5d/Branch_2/Conv2d_0b_3x3/Relu',\n",
       " 'import/InceptionV3/InceptionV3/Mixed_5d/Branch_2/Conv2d_0c_3x3/convolution',\n",
       " 'import/InceptionV3/InceptionV3/Mixed_5d/Branch_2/Conv2d_0c_3x3/Relu',\n",
       " 'import/InceptionV3/InceptionV3/Mixed_5d/Branch_3/Conv2d_0b_1x1/convolution',\n",
       " 'import/InceptionV3/InceptionV3/Mixed_5d/Branch_3/Conv2d_0b_1x1/Relu',\n",
       " 'import/InceptionV3/InceptionV3/Mixed_6a/Branch_0/Conv2d_1a_1x1/convolution',\n",
       " 'import/InceptionV3/InceptionV3/Mixed_6a/Branch_0/Conv2d_1a_1x1/Relu',\n",
       " 'import/InceptionV3/InceptionV3/Mixed_6a/Branch_1/Conv2d_0a_1x1/convolution',\n",
       " 'import/InceptionV3/InceptionV3/Mixed_6a/Branch_1/Conv2d_0a_1x1/Relu',\n",
       " 'import/InceptionV3/InceptionV3/Mixed_6a/Branch_1/Conv2d_0b_3x3/convolution',\n",
       " 'import/InceptionV3/InceptionV3/Mixed_6a/Branch_1/Conv2d_0b_3x3/Relu',\n",
       " 'import/InceptionV3/InceptionV3/Mixed_6a/Branch_1/Conv2d_1a_1x1/convolution',\n",
       " 'import/InceptionV3/InceptionV3/Mixed_6a/Branch_1/Conv2d_1a_1x1/Relu',\n",
       " 'import/InceptionV3/InceptionV3/Mixed_6b/Branch_0/Conv2d_0a_1x1/convolution',\n",
       " 'import/InceptionV3/InceptionV3/Mixed_6b/Branch_0/Conv2d_0a_1x1/Relu',\n",
       " 'import/InceptionV3/InceptionV3/Mixed_6b/Branch_1/Conv2d_0a_1x1/convolution',\n",
       " 'import/InceptionV3/InceptionV3/Mixed_6b/Branch_1/Conv2d_0a_1x1/Relu',\n",
       " 'import/InceptionV3/InceptionV3/Mixed_6b/Branch_1/Conv2d_0b_1x7/convolution',\n",
       " 'import/InceptionV3/InceptionV3/Mixed_6b/Branch_1/Conv2d_0b_1x7/Relu',\n",
       " 'import/InceptionV3/InceptionV3/Mixed_6b/Branch_1/Conv2d_0c_7x1/convolution',\n",
       " 'import/InceptionV3/InceptionV3/Mixed_6b/Branch_1/Conv2d_0c_7x1/Relu',\n",
       " 'import/InceptionV3/InceptionV3/Mixed_6b/Branch_2/Conv2d_0a_1x1/convolution',\n",
       " 'import/InceptionV3/InceptionV3/Mixed_6b/Branch_2/Conv2d_0a_1x1/Relu',\n",
       " 'import/InceptionV3/InceptionV3/Mixed_6b/Branch_2/Conv2d_0b_7x1/convolution',\n",
       " 'import/InceptionV3/InceptionV3/Mixed_6b/Branch_2/Conv2d_0b_7x1/Relu',\n",
       " 'import/InceptionV3/InceptionV3/Mixed_6b/Branch_2/Conv2d_0c_1x7/convolution',\n",
       " 'import/InceptionV3/InceptionV3/Mixed_6b/Branch_2/Conv2d_0c_1x7/Relu',\n",
       " 'import/InceptionV3/InceptionV3/Mixed_6b/Branch_2/Conv2d_0d_7x1/convolution',\n",
       " 'import/InceptionV3/InceptionV3/Mixed_6b/Branch_2/Conv2d_0d_7x1/Relu',\n",
       " 'import/InceptionV3/InceptionV3/Mixed_6b/Branch_2/Conv2d_0e_1x7/convolution',\n",
       " 'import/InceptionV3/InceptionV3/Mixed_6b/Branch_2/Conv2d_0e_1x7/Relu',\n",
       " 'import/InceptionV3/InceptionV3/Mixed_6b/Branch_3/Conv2d_0b_1x1/convolution',\n",
       " 'import/InceptionV3/InceptionV3/Mixed_6b/Branch_3/Conv2d_0b_1x1/Relu',\n",
       " 'import/InceptionV3/InceptionV3/Mixed_6c/Branch_0/Conv2d_0a_1x1/convolution',\n",
       " 'import/InceptionV3/InceptionV3/Mixed_6c/Branch_0/Conv2d_0a_1x1/Relu',\n",
       " 'import/InceptionV3/InceptionV3/Mixed_6c/Branch_1/Conv2d_0a_1x1/convolution',\n",
       " 'import/InceptionV3/InceptionV3/Mixed_6c/Branch_1/Conv2d_0a_1x1/Relu',\n",
       " 'import/InceptionV3/InceptionV3/Mixed_6c/Branch_1/Conv2d_0b_1x7/convolution',\n",
       " 'import/InceptionV3/InceptionV3/Mixed_6c/Branch_1/Conv2d_0b_1x7/Relu',\n",
       " 'import/InceptionV3/InceptionV3/Mixed_6c/Branch_1/Conv2d_0c_7x1/convolution',\n",
       " 'import/InceptionV3/InceptionV3/Mixed_6c/Branch_1/Conv2d_0c_7x1/Relu',\n",
       " 'import/InceptionV3/InceptionV3/Mixed_6c/Branch_2/Conv2d_0a_1x1/convolution',\n",
       " 'import/InceptionV3/InceptionV3/Mixed_6c/Branch_2/Conv2d_0a_1x1/Relu',\n",
       " 'import/InceptionV3/InceptionV3/Mixed_6c/Branch_2/Conv2d_0b_7x1/convolution',\n",
       " 'import/InceptionV3/InceptionV3/Mixed_6c/Branch_2/Conv2d_0b_7x1/Relu',\n",
       " 'import/InceptionV3/InceptionV3/Mixed_6c/Branch_2/Conv2d_0c_1x7/convolution',\n",
       " 'import/InceptionV3/InceptionV3/Mixed_6c/Branch_2/Conv2d_0c_1x7/Relu',\n",
       " 'import/InceptionV3/InceptionV3/Mixed_6c/Branch_2/Conv2d_0d_7x1/convolution',\n",
       " 'import/InceptionV3/InceptionV3/Mixed_6c/Branch_2/Conv2d_0d_7x1/Relu',\n",
       " 'import/InceptionV3/InceptionV3/Mixed_6c/Branch_2/Conv2d_0e_1x7/convolution',\n",
       " 'import/InceptionV3/InceptionV3/Mixed_6c/Branch_2/Conv2d_0e_1x7/Relu',\n",
       " 'import/InceptionV3/InceptionV3/Mixed_6c/Branch_3/Conv2d_0b_1x1/convolution',\n",
       " 'import/InceptionV3/InceptionV3/Mixed_6c/Branch_3/Conv2d_0b_1x1/Relu',\n",
       " 'import/InceptionV3/InceptionV3/Mixed_6d/Branch_0/Conv2d_0a_1x1/convolution',\n",
       " 'import/InceptionV3/InceptionV3/Mixed_6d/Branch_0/Conv2d_0a_1x1/Relu',\n",
       " 'import/InceptionV3/InceptionV3/Mixed_6d/Branch_1/Conv2d_0a_1x1/convolution',\n",
       " 'import/InceptionV3/InceptionV3/Mixed_6d/Branch_1/Conv2d_0a_1x1/Relu',\n",
       " 'import/InceptionV3/InceptionV3/Mixed_6d/Branch_1/Conv2d_0b_1x7/convolution',\n",
       " 'import/InceptionV3/InceptionV3/Mixed_6d/Branch_1/Conv2d_0b_1x7/Relu',\n",
       " 'import/InceptionV3/InceptionV3/Mixed_6d/Branch_1/Conv2d_0c_7x1/convolution',\n",
       " 'import/InceptionV3/InceptionV3/Mixed_6d/Branch_1/Conv2d_0c_7x1/Relu',\n",
       " 'import/InceptionV3/InceptionV3/Mixed_6d/Branch_2/Conv2d_0a_1x1/convolution',\n",
       " 'import/InceptionV3/InceptionV3/Mixed_6d/Branch_2/Conv2d_0a_1x1/Relu',\n",
       " 'import/InceptionV3/InceptionV3/Mixed_6d/Branch_2/Conv2d_0b_7x1/convolution',\n",
       " 'import/InceptionV3/InceptionV3/Mixed_6d/Branch_2/Conv2d_0b_7x1/Relu',\n",
       " 'import/InceptionV3/InceptionV3/Mixed_6d/Branch_2/Conv2d_0c_1x7/convolution',\n",
       " 'import/InceptionV3/InceptionV3/Mixed_6d/Branch_2/Conv2d_0c_1x7/Relu',\n",
       " 'import/InceptionV3/InceptionV3/Mixed_6d/Branch_2/Conv2d_0d_7x1/convolution',\n",
       " 'import/InceptionV3/InceptionV3/Mixed_6d/Branch_2/Conv2d_0d_7x1/Relu',\n",
       " 'import/InceptionV3/InceptionV3/Mixed_6d/Branch_2/Conv2d_0e_1x7/convolution',\n",
       " 'import/InceptionV3/InceptionV3/Mixed_6d/Branch_2/Conv2d_0e_1x7/Relu',\n",
       " 'import/InceptionV3/InceptionV3/Mixed_6d/Branch_3/Conv2d_0b_1x1/convolution',\n",
       " 'import/InceptionV3/InceptionV3/Mixed_6d/Branch_3/Conv2d_0b_1x1/Relu',\n",
       " 'import/InceptionV3/InceptionV3/Mixed_6e/Branch_0/Conv2d_0a_1x1/convolution',\n",
       " 'import/InceptionV3/InceptionV3/Mixed_6e/Branch_0/Conv2d_0a_1x1/Relu',\n",
       " 'import/InceptionV3/InceptionV3/Mixed_6e/Branch_1/Conv2d_0a_1x1/convolution',\n",
       " 'import/InceptionV3/InceptionV3/Mixed_6e/Branch_1/Conv2d_0a_1x1/Relu',\n",
       " 'import/InceptionV3/InceptionV3/Mixed_6e/Branch_1/Conv2d_0b_1x7/convolution',\n",
       " 'import/InceptionV3/InceptionV3/Mixed_6e/Branch_1/Conv2d_0b_1x7/Relu',\n",
       " 'import/InceptionV3/InceptionV3/Mixed_6e/Branch_1/Conv2d_0c_7x1/convolution',\n",
       " 'import/InceptionV3/InceptionV3/Mixed_6e/Branch_1/Conv2d_0c_7x1/Relu',\n",
       " 'import/InceptionV3/InceptionV3/Mixed_6e/Branch_2/Conv2d_0a_1x1/convolution',\n",
       " 'import/InceptionV3/InceptionV3/Mixed_6e/Branch_2/Conv2d_0a_1x1/Relu',\n",
       " 'import/InceptionV3/InceptionV3/Mixed_6e/Branch_2/Conv2d_0b_7x1/convolution',\n",
       " 'import/InceptionV3/InceptionV3/Mixed_6e/Branch_2/Conv2d_0b_7x1/Relu',\n",
       " 'import/InceptionV3/InceptionV3/Mixed_6e/Branch_2/Conv2d_0c_1x7/convolution',\n",
       " 'import/InceptionV3/InceptionV3/Mixed_6e/Branch_2/Conv2d_0c_1x7/Relu',\n",
       " 'import/InceptionV3/InceptionV3/Mixed_6e/Branch_2/Conv2d_0d_7x1/convolution',\n",
       " 'import/InceptionV3/InceptionV3/Mixed_6e/Branch_2/Conv2d_0d_7x1/Relu',\n",
       " 'import/InceptionV3/InceptionV3/Mixed_6e/Branch_2/Conv2d_0e_1x7/convolution',\n",
       " 'import/InceptionV3/InceptionV3/Mixed_6e/Branch_2/Conv2d_0e_1x7/Relu',\n",
       " 'import/InceptionV3/InceptionV3/Mixed_6e/Branch_3/Conv2d_0b_1x1/convolution',\n",
       " 'import/InceptionV3/InceptionV3/Mixed_6e/Branch_3/Conv2d_0b_1x1/Relu',\n",
       " 'import/InceptionV3/InceptionV3/Mixed_7a/Branch_0/Conv2d_0a_1x1/convolution',\n",
       " 'import/InceptionV3/InceptionV3/Mixed_7a/Branch_0/Conv2d_0a_1x1/Relu',\n",
       " 'import/InceptionV3/InceptionV3/Mixed_7a/Branch_0/Conv2d_1a_3x3/convolution',\n",
       " 'import/InceptionV3/InceptionV3/Mixed_7a/Branch_0/Conv2d_1a_3x3/Relu',\n",
       " 'import/InceptionV3/InceptionV3/Mixed_7a/Branch_1/Conv2d_0a_1x1/convolution',\n",
       " 'import/InceptionV3/InceptionV3/Mixed_7a/Branch_1/Conv2d_0a_1x1/Relu',\n",
       " 'import/InceptionV3/InceptionV3/Mixed_7a/Branch_1/Conv2d_0b_1x7/convolution',\n",
       " 'import/InceptionV3/InceptionV3/Mixed_7a/Branch_1/Conv2d_0b_1x7/Relu',\n",
       " 'import/InceptionV3/InceptionV3/Mixed_7a/Branch_1/Conv2d_0c_7x1/convolution',\n",
       " 'import/InceptionV3/InceptionV3/Mixed_7a/Branch_1/Conv2d_0c_7x1/Relu',\n",
       " 'import/InceptionV3/InceptionV3/Mixed_7a/Branch_1/Conv2d_1a_3x3/convolution',\n",
       " 'import/InceptionV3/InceptionV3/Mixed_7a/Branch_1/Conv2d_1a_3x3/Relu',\n",
       " 'import/InceptionV3/InceptionV3/Mixed_7b/Branch_0/Conv2d_0a_1x1/convolution',\n",
       " 'import/InceptionV3/InceptionV3/Mixed_7b/Branch_0/Conv2d_0a_1x1/Relu',\n",
       " 'import/InceptionV3/InceptionV3/Mixed_7b/Branch_1/Conv2d_0a_1x1/convolution',\n",
       " 'import/InceptionV3/InceptionV3/Mixed_7b/Branch_1/Conv2d_0a_1x1/Relu',\n",
       " 'import/InceptionV3/InceptionV3/Mixed_7b/Branch_1/Conv2d_0b_1x3/convolution',\n",
       " 'import/InceptionV3/InceptionV3/Mixed_7b/Branch_1/Conv2d_0b_1x3/Relu',\n",
       " 'import/InceptionV3/InceptionV3/Mixed_7b/Branch_1/Conv2d_0b_3x1/convolution',\n",
       " 'import/InceptionV3/InceptionV3/Mixed_7b/Branch_1/Conv2d_0b_3x1/Relu',\n",
       " 'import/InceptionV3/InceptionV3/Mixed_7b/Branch_2/Conv2d_0a_1x1/convolution',\n",
       " 'import/InceptionV3/InceptionV3/Mixed_7b/Branch_2/Conv2d_0a_1x1/Relu',\n",
       " 'import/InceptionV3/InceptionV3/Mixed_7b/Branch_2/Conv2d_0b_3x3/convolution',\n",
       " 'import/InceptionV3/InceptionV3/Mixed_7b/Branch_2/Conv2d_0b_3x3/Relu',\n",
       " 'import/InceptionV3/InceptionV3/Mixed_7b/Branch_2/Conv2d_0c_1x3/convolution',\n",
       " 'import/InceptionV3/InceptionV3/Mixed_7b/Branch_2/Conv2d_0c_1x3/Relu',\n",
       " 'import/InceptionV3/InceptionV3/Mixed_7b/Branch_2/Conv2d_0d_3x1/convolution',\n",
       " 'import/InceptionV3/InceptionV3/Mixed_7b/Branch_2/Conv2d_0d_3x1/Relu',\n",
       " 'import/InceptionV3/InceptionV3/Mixed_7b/Branch_3/Conv2d_0b_1x1/convolution',\n",
       " 'import/InceptionV3/InceptionV3/Mixed_7b/Branch_3/Conv2d_0b_1x1/Relu',\n",
       " 'import/InceptionV3/InceptionV3/Mixed_7c/Branch_0/Conv2d_0a_1x1/convolution',\n",
       " 'import/InceptionV3/InceptionV3/Mixed_7c/Branch_0/Conv2d_0a_1x1/Relu',\n",
       " 'import/InceptionV3/InceptionV3/Mixed_7c/Branch_1/Conv2d_0a_1x1/convolution',\n",
       " 'import/InceptionV3/InceptionV3/Mixed_7c/Branch_1/Conv2d_0a_1x1/Relu',\n",
       " 'import/InceptionV3/InceptionV3/Mixed_7c/Branch_1/Conv2d_0b_1x3/convolution',\n",
       " 'import/InceptionV3/InceptionV3/Mixed_7c/Branch_1/Conv2d_0b_1x3/Relu',\n",
       " 'import/InceptionV3/InceptionV3/Mixed_7c/Branch_1/Conv2d_0c_3x1/convolution',\n",
       " 'import/InceptionV3/InceptionV3/Mixed_7c/Branch_1/Conv2d_0c_3x1/Relu',\n",
       " 'import/InceptionV3/InceptionV3/Mixed_7c/Branch_2/Conv2d_0a_1x1/convolution',\n",
       " 'import/InceptionV3/InceptionV3/Mixed_7c/Branch_2/Conv2d_0a_1x1/Relu',\n",
       " 'import/InceptionV3/InceptionV3/Mixed_7c/Branch_2/Conv2d_0b_3x3/convolution',\n",
       " 'import/InceptionV3/InceptionV3/Mixed_7c/Branch_2/Conv2d_0b_3x3/Relu',\n",
       " 'import/InceptionV3/InceptionV3/Mixed_7c/Branch_2/Conv2d_0c_1x3/convolution',\n",
       " 'import/InceptionV3/InceptionV3/Mixed_7c/Branch_2/Conv2d_0c_1x3/Relu',\n",
       " 'import/InceptionV3/InceptionV3/Mixed_7c/Branch_2/Conv2d_0d_3x1/convolution',\n",
       " 'import/InceptionV3/InceptionV3/Mixed_7c/Branch_2/Conv2d_0d_3x1/Relu',\n",
       " 'import/InceptionV3/InceptionV3/Mixed_7c/Branch_3/Conv2d_0b_1x1/convolution',\n",
       " 'import/InceptionV3/InceptionV3/Mixed_7c/Branch_3/Conv2d_0b_1x1/Relu',\n",
       " 'import/InceptionV3/Logits/Conv2d_1c_1x1/convolution']"
      ]
     },
     "execution_count": 9,
     "metadata": {},
     "output_type": "execute_result"
    }
   ],
   "source": [
    "[o.name for o in ops if o.type in ['Conv2D','Relu']]"
   ]
  }
 ],
 "metadata": {
  "kernelspec": {
   "display_name": "Python 3",
   "language": "python",
   "name": "python3"
  },
  "language_info": {
   "codemirror_mode": {
    "name": "ipython",
    "version": 3
   },
   "file_extension": ".py",
   "mimetype": "text/x-python",
   "name": "python",
   "nbconvert_exporter": "python",
   "pygments_lexer": "ipython3",
   "version": "3.6.1"
  }
 },
 "nbformat": 4,
 "nbformat_minor": 2
}
